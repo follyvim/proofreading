{
 "cells": [
  {
   "cell_type": "code",
   "execution_count": 1,
   "id": "de369b6e-d681-4049-869d-fac5cd0595fd",
   "metadata": {},
   "outputs": [],
   "source": []
  },
  {
   "cell_type": "code",
   "execution_count": 1,
   "id": "cca1e61b-af94-4aaf-8d80-3e38c85b043f",
   "metadata": {},
   "outputs": [],
   "source": [
    "import tkinter as tk\n",
    "from tkinter import *\n",
    "import tkinter.ttk as ttk\n",
    "from tkinter import messagebox\n",
    "from textblob import TextBlob\n",
    "import pyttsx3\n",
    "\n",
    "ws = tk.Tk()\n",
    "ws.title('ProofRead App')\n",
    "ws.geometry('800x800')   \n",
    "# style = ttk.Style()\n",
    "wrong = Entry(ws, width = 60,borderwidth=15)\n",
    "wrong.grid(row = 0, column = 3)\n",
    "TextArea = Text(ws, height = 10, width = 30, font = \"lucida 13\")\n",
    "TextArea.grid(row = 1, column = 3, padx = 20, sticky = W)\n",
    "def auto():\n",
    "    correct_word = wrong.get()\n",
    "    right =[]\n",
    "    right.append(TextBlob(correct_word))\n",
    "    for i in right:\n",
    "        TextArea.insert('end -1 chars',i.correct(),'\\n',',')\n",
    "        word = i.correct()\n",
    "        engine = pyttsx3.init()\n",
    "        speak = word\n",
    "        voices = engine.getProperty('voices')\n",
    "        engine.setProperty('voice', voices[0].id)\n",
    "        engine.say(speak)\n",
    "        engine.runAndWait()\n",
    "schad =Button(text =\"Submit\", font = ('Times', 12),command=auto, width = 10, bg = 'grey', fg= 'blue')\n",
    "schad.grid(row=2, column = 3)\n",
    "\n",
    "ws.mainloop()"
   ]
  },
  {
   "cell_type": "code",
   "execution_count": null,
   "id": "9d5e0cd5-9a94-4223-88ed-6b5d03db5355",
   "metadata": {},
   "outputs": [],
   "source": []
  },
  {
   "cell_type": "code",
   "execution_count": null,
   "id": "d7c37ce3-7ab2-40e4-9caf-986f2e2c17f1",
   "metadata": {},
   "outputs": [],
   "source": []
  }
 ],
 "metadata": {
  "kernelspec": {
   "display_name": "base",
   "language": "python",
   "name": "python3"
  },
  "language_info": {
   "codemirror_mode": {
    "name": "ipython",
    "version": 3
   },
   "file_extension": ".py",
   "mimetype": "text/x-python",
   "name": "python",
   "nbconvert_exporter": "python",
   "pygments_lexer": "ipython3",
   "version": "3.8.8 (default, Apr 13 2021, 15:08:03) [MSC v.1916 64 bit (AMD64)]"
  },
  "vscode": {
   "interpreter": {
    "hash": "3dcdc92c67f25e1a50f94c7f4b6d1d13d29cd263fa2e79078ef2d4cb7d9fa7f9"
   }
  }
 },
 "nbformat": 4,
 "nbformat_minor": 5
}
